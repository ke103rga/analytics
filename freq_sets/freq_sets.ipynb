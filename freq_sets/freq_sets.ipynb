{
 "cells": [
  {
   "cell_type": "markdown",
   "metadata": {},
   "source": [
    "**Студент: Разуев Г.А.**\n",
    "<br>\n",
    "**Группа:  КЭ - 403**"
   ]
  },
  {
   "cell_type": "markdown",
   "metadata": {},
   "source": [
    "# Задание\n",
    "\n",
    "1. Разработайте программу, которая выполняет поиск частых наборов объектов в заданном наборе данных с помощью алгоритма Apriori (или одной из его модификаций). Список результирующих наборов должен содержать как наборы, так и значение поддержки для каждого набора. Параметрами программы являются набор, порог поддержки и способ упорядочивания результирующего списка наборов (по убыванию значения поддержки или лексикографическое).\n",
    "\n",
    "2. Проведите эксперименты на наборе данных baskets.csv (сведения о покупках в супермаркете). В экспериментах варьируйте пороговое значение поддержки (например: 1%, 3%, 5%, 10%, 15%).\n",
    "\n",
    "3. Выполните визуализацию результатов экспериментов в виде следующих диаграмм:\n",
    "\n",
    "    * сравнение быстродействия на фиксированном наборе данных при изменяемом пороге поддержки;\n",
    "\n",
    "    * количество частых наборов объектов различной длины на фиксированном наборе данных при изменяемом пороге поддержки.\n",
    "\n",
    "4. Подготовьте отчет о выполнении задания и загрузите отчет в формате PDF в систему. Отчет должен представлять собой связный и структурированный документ со следующими разделами:  \n",
    "    * формулировка задания; \n",
    "    * гиперссылка на каталог репозитория с исходными текстами, наборами данных и др. сопутствующими материалами; \n",
    "    * рисунки с результатами визуализации; \n",
    "    * пояснения, раскрывающие смысл полученных результатов."
   ]
  },
  {
   "cell_type": "markdown",
   "metadata": {},
   "source": [
    "# 1. Реализация алгоритма"
   ]
  },
  {
   "cell_type": "code",
   "execution_count": 1,
   "metadata": {},
   "outputs": [],
   "source": [
    "import pandas as pd\n",
    "import numpy as np\n",
    "import matplotlib.pyplot as plt\n",
    "import seaborn as sns\n",
    "from itertools import combinations\n",
    "from typing import List\n",
    "import os\n",
    "import time\n",
    "\n",
    "import plotly.graph_objects as go\n",
    "from plotly.subplots import make_subplots"
   ]
  },
  {
   "cell_type": "code",
   "execution_count": 2,
   "metadata": {},
   "outputs": [],
   "source": [
    "class AprioriSolver:\n",
    "    def __init__(self):\n",
    "        pass\n",
    "\n",
    "    def _get_frequent_itemsets(self, data: List[List], min_support: float, verbose: bool) -> pd.DataFrame:\n",
    "        \"\"\"Метод для нахождения частых наборов объектов\"\"\"\n",
    "        # Преобразуем данные в список транзакций\n",
    "        transactions = [set(lst) for lst in data]\n",
    "        \n",
    "        # Установим начальные значения\n",
    "        item_count = {}\n",
    "        \n",
    "        # Подсчитваем частоту одиночных предметов\n",
    "        for transaction in transactions:\n",
    "            for item in transaction:\n",
    "                item_count[item] = item_count.get(item, 0) + 1\n",
    "                    \n",
    "        # Фильтруем по порогу поддержки\n",
    "        transactions_count = len(transactions)\n",
    "        frequent_itemsets = {\n",
    "            frozenset([item]): count for item, count in item_count.items() \n",
    "            if count / transactions_count >= min_support\n",
    "        }\n",
    "        \n",
    "        set_size = 2  # Начнем с пар\n",
    "        candidate_itemsets = self._generate_candidates(frequent_itemsets.keys(), set_size)\n",
    "        frequent_itemsets = {}\n",
    "        while candidate_itemsets:\n",
    "            item_count = {}\n",
    "            \n",
    "            # Подсчитываем поддержку для кандидатных наборов\n",
    "            for transaction in transactions:\n",
    "                for candidate in candidate_itemsets:\n",
    "                    if candidate.issubset(transaction):\n",
    "                        item_count[candidate] = item_count.get(candidate, 0) + 1\n",
    "\n",
    "            # Фильтруем по порогу поддержки\n",
    "            candidate_itemsets = {\n",
    "                itemset: count for itemset, count in item_count.items() \n",
    "                if count / transactions_count >= min_support\n",
    "            }\n",
    "            if verbose:\n",
    "                print(set_size)\n",
    "                print(candidate_itemsets)\n",
    "\n",
    "            # Добавляем новые частые наборы к общему списку\n",
    "            frequent_itemsets.update(candidate_itemsets)\n",
    "\n",
    "            set_size += 1  # Переходим к следующему размеру наборов\n",
    "            # Генерируем наборы кандидатных наборов\n",
    "            candidate_itemsets = self._generate_candidates(frequent_itemsets.keys(), set_size)\n",
    "\n",
    "        return frequent_itemsets\n",
    "\n",
    "    def _generate_candidates(self, frequent_itemsets: set, set_size: int) -> set:\n",
    "        \"\"\"Метод для генерации кандидатных наборов\"\"\"\n",
    "        candidates = set()\n",
    "        itemsets_list = list(frequent_itemsets)\n",
    "        for i in range(len(itemsets_list)):\n",
    "            for j in range(i + 1, len(itemsets_list)):\n",
    "                # Объединяем два набора, если первые (set_size-1) элементы совпадают\n",
    "                candidate = itemsets_list[i] | itemsets_list[j]\n",
    "                if len(candidate) == set_size:\n",
    "                    candidates.add(candidate)\n",
    "        return candidates\n",
    "\n",
    "    def solve(self, data: List[List], min_support: float, sort_method: str = 'support', verbose: bool = False) -> pd.DataFrame:\n",
    "        \"\"\"Метод для запуска алгоритма\"\"\"\n",
    "        # Исходные частые наборы\n",
    "        frequent_itemsets = self._get_frequent_itemsets(data, min_support, verbose)\n",
    "\n",
    "        # Преобразуем результаты в DataFrame\n",
    "        results = [(tuple(sorted(itemset)), count) for itemset, count in frequent_itemsets.items()]\n",
    "        results_df = pd.DataFrame(results, columns=['items_set', 'support'])\n",
    "\n",
    "        # Рассчитываем поддержку\n",
    "        results_df['support'] = results_df['support'] / len(data)\n",
    "\n",
    "        # Упорядочиваем результаты \n",
    "        if sort_method == 'support':\n",
    "            results_df = results_df.sort_values(by='support', ascending=False)\n",
    "        elif sort_method == 'lexical':\n",
    "            results_df = results_df.sort_values(by='items_set')\n",
    "        else:\n",
    "            raise ValueError('Invalid sort method')\n",
    "        \n",
    "        return results_df.reset_index(drop=True)"
   ]
  },
  {
   "cell_type": "code",
   "execution_count": 3,
   "metadata": {},
   "outputs": [
    {
     "data": {
      "text/html": [
       "<div>\n",
       "<style scoped>\n",
       "    .dataframe tbody tr th:only-of-type {\n",
       "        vertical-align: middle;\n",
       "    }\n",
       "\n",
       "    .dataframe tbody tr th {\n",
       "        vertical-align: top;\n",
       "    }\n",
       "\n",
       "    .dataframe thead th {\n",
       "        text-align: right;\n",
       "    }\n",
       "</style>\n",
       "<table border=\"1\" class=\"dataframe\">\n",
       "  <thead>\n",
       "    <tr style=\"text-align: right;\">\n",
       "      <th></th>\n",
       "      <th>items_set</th>\n",
       "      <th>support</th>\n",
       "    </tr>\n",
       "  </thead>\n",
       "  <tbody>\n",
       "    <tr>\n",
       "      <th>0</th>\n",
       "      <td>(I1, I2)</td>\n",
       "      <td>0.4</td>\n",
       "    </tr>\n",
       "    <tr>\n",
       "      <th>1</th>\n",
       "      <td>(I1, I2, I3)</td>\n",
       "      <td>0.2</td>\n",
       "    </tr>\n",
       "    <tr>\n",
       "      <th>2</th>\n",
       "      <td>(I1, I2, I3, I5)</td>\n",
       "      <td>0.1</td>\n",
       "    </tr>\n",
       "    <tr>\n",
       "      <th>3</th>\n",
       "      <td>(I1, I2, I4)</td>\n",
       "      <td>0.1</td>\n",
       "    </tr>\n",
       "    <tr>\n",
       "      <th>4</th>\n",
       "      <td>(I1, I2, I5)</td>\n",
       "      <td>0.2</td>\n",
       "    </tr>\n",
       "    <tr>\n",
       "      <th>5</th>\n",
       "      <td>(I1, I3)</td>\n",
       "      <td>0.4</td>\n",
       "    </tr>\n",
       "    <tr>\n",
       "      <th>6</th>\n",
       "      <td>(I1, I3, I5)</td>\n",
       "      <td>0.1</td>\n",
       "    </tr>\n",
       "    <tr>\n",
       "      <th>7</th>\n",
       "      <td>(I1, I4)</td>\n",
       "      <td>0.1</td>\n",
       "    </tr>\n",
       "    <tr>\n",
       "      <th>8</th>\n",
       "      <td>(I1, I5)</td>\n",
       "      <td>0.2</td>\n",
       "    </tr>\n",
       "    <tr>\n",
       "      <th>9</th>\n",
       "      <td>(I2, I3)</td>\n",
       "      <td>0.4</td>\n",
       "    </tr>\n",
       "    <tr>\n",
       "      <th>10</th>\n",
       "      <td>(I2, I3, I5)</td>\n",
       "      <td>0.1</td>\n",
       "    </tr>\n",
       "    <tr>\n",
       "      <th>11</th>\n",
       "      <td>(I2, I4)</td>\n",
       "      <td>0.2</td>\n",
       "    </tr>\n",
       "    <tr>\n",
       "      <th>12</th>\n",
       "      <td>(I2, I5)</td>\n",
       "      <td>0.2</td>\n",
       "    </tr>\n",
       "    <tr>\n",
       "      <th>13</th>\n",
       "      <td>(I3, I5)</td>\n",
       "      <td>0.1</td>\n",
       "    </tr>\n",
       "  </tbody>\n",
       "</table>\n",
       "</div>"
      ],
      "text/plain": [
       "           items_set  support\n",
       "0           (I1, I2)      0.4\n",
       "1       (I1, I2, I3)      0.2\n",
       "2   (I1, I2, I3, I5)      0.1\n",
       "3       (I1, I2, I4)      0.1\n",
       "4       (I1, I2, I5)      0.2\n",
       "5           (I1, I3)      0.4\n",
       "6       (I1, I3, I5)      0.1\n",
       "7           (I1, I4)      0.1\n",
       "8           (I1, I5)      0.2\n",
       "9           (I2, I3)      0.4\n",
       "10      (I2, I3, I5)      0.1\n",
       "11          (I2, I4)      0.2\n",
       "12          (I2, I5)      0.2\n",
       "13          (I3, I5)      0.1"
      ]
     },
     "execution_count": 3,
     "metadata": {},
     "output_type": "execute_result"
    }
   ],
   "source": [
    "data = [\n",
    "    ['I1', 'I2', 'I5'],\n",
    "    ['I2', 'I4'],\n",
    "    ['I2', 'I3'],\n",
    "    ['I1', 'I2', 'I4'],\n",
    "    ['I1', 'I3'],\n",
    "    ['I2', 'I3'],\n",
    "    ['I1', 'I3'],\n",
    "    ['I1', 'I2', 'I3', 'I5'],\n",
    "    ['I1', 'I2', 'I3'],\n",
    "    ['I6']\n",
    "]\n",
    "\n",
    "apriori_solver = AprioriSolver()\n",
    "min_support = 0.  # Порог поддержки\n",
    "result = apriori_solver.solve(data, min_support, sort_method='lexical', verbose=False)\n",
    "result"
   ]
  },
  {
   "cell_type": "markdown",
   "metadata": {},
   "source": [
    "# 2. Эксперименты"
   ]
  },
  {
   "cell_type": "code",
   "execution_count": 4,
   "metadata": {},
   "outputs": [],
   "source": [
    "import chardet"
   ]
  },
  {
   "cell_type": "code",
   "execution_count": 5,
   "metadata": {},
   "outputs": [],
   "source": [
    "DATA_PATH = 'data'"
   ]
  },
  {
   "cell_type": "code",
   "execution_count": 6,
   "metadata": {},
   "outputs": [
    {
     "name": "stdout",
     "output_type": "stream",
     "text": [
      "windows-1251\n"
     ]
    }
   ],
   "source": [
    "with open(os.path.join(DATA_PATH, 'baskets.csv'), 'rb') as f:\n",
    "    result = chardet.detect(f.read())\n",
    "\n",
    "print(result['encoding'])"
   ]
  },
  {
   "cell_type": "code",
   "execution_count": 7,
   "metadata": {},
   "outputs": [],
   "source": [
    "baskets = pd.read_csv(os.path.join(DATA_PATH, 'baskets.csv'), encoding='windows-1251', header=None)"
   ]
  },
  {
   "cell_type": "code",
   "execution_count": 8,
   "metadata": {},
   "outputs": [
    {
     "data": {
      "text/html": [
       "<div>\n",
       "<style scoped>\n",
       "    .dataframe tbody tr th:only-of-type {\n",
       "        vertical-align: middle;\n",
       "    }\n",
       "\n",
       "    .dataframe tbody tr th {\n",
       "        vertical-align: top;\n",
       "    }\n",
       "\n",
       "    .dataframe thead th {\n",
       "        text-align: right;\n",
       "    }\n",
       "</style>\n",
       "<table border=\"1\" class=\"dataframe\">\n",
       "  <thead>\n",
       "    <tr style=\"text-align: right;\">\n",
       "      <th></th>\n",
       "      <th>0</th>\n",
       "      <th>1</th>\n",
       "      <th>2</th>\n",
       "      <th>3</th>\n",
       "      <th>4</th>\n",
       "      <th>5</th>\n",
       "      <th>6</th>\n",
       "      <th>7</th>\n",
       "      <th>8</th>\n",
       "      <th>9</th>\n",
       "      <th>10</th>\n",
       "      <th>11</th>\n",
       "      <th>12</th>\n",
       "      <th>13</th>\n",
       "      <th>14</th>\n",
       "      <th>15</th>\n",
       "      <th>16</th>\n",
       "      <th>17</th>\n",
       "      <th>18</th>\n",
       "      <th>19</th>\n",
       "    </tr>\n",
       "  </thead>\n",
       "  <tbody>\n",
       "    <tr>\n",
       "      <th>0</th>\n",
       "      <td>креветки</td>\n",
       "      <td>миндаль</td>\n",
       "      <td>авокадо</td>\n",
       "      <td>овощная смесь</td>\n",
       "      <td>зеленый виноград</td>\n",
       "      <td>цельнозерновая мука</td>\n",
       "      <td>батат</td>\n",
       "      <td>творог</td>\n",
       "      <td>энергетический напиток</td>\n",
       "      <td>томатный сок</td>\n",
       "      <td>низкокалорийный йогурт</td>\n",
       "      <td>зеленый чай</td>\n",
       "      <td>мед</td>\n",
       "      <td>салат</td>\n",
       "      <td>минеральная вода</td>\n",
       "      <td>лосось</td>\n",
       "      <td>ягодный сок</td>\n",
       "      <td>замороженный смузи</td>\n",
       "      <td>шпинат</td>\n",
       "      <td>оливковое масло</td>\n",
       "    </tr>\n",
       "    <tr>\n",
       "      <th>1</th>\n",
       "      <td>гамбургер</td>\n",
       "      <td>фрикадельки</td>\n",
       "      <td>яйца</td>\n",
       "      <td>NaN</td>\n",
       "      <td>NaN</td>\n",
       "      <td>NaN</td>\n",
       "      <td>NaN</td>\n",
       "      <td>NaN</td>\n",
       "      <td>NaN</td>\n",
       "      <td>NaN</td>\n",
       "      <td>NaN</td>\n",
       "      <td>NaN</td>\n",
       "      <td>NaN</td>\n",
       "      <td>NaN</td>\n",
       "      <td>NaN</td>\n",
       "      <td>NaN</td>\n",
       "      <td>NaN</td>\n",
       "      <td>NaN</td>\n",
       "      <td>NaN</td>\n",
       "      <td>NaN</td>\n",
       "    </tr>\n",
       "    <tr>\n",
       "      <th>2</th>\n",
       "      <td>чатни</td>\n",
       "      <td>NaN</td>\n",
       "      <td>NaN</td>\n",
       "      <td>NaN</td>\n",
       "      <td>NaN</td>\n",
       "      <td>NaN</td>\n",
       "      <td>NaN</td>\n",
       "      <td>NaN</td>\n",
       "      <td>NaN</td>\n",
       "      <td>NaN</td>\n",
       "      <td>NaN</td>\n",
       "      <td>NaN</td>\n",
       "      <td>NaN</td>\n",
       "      <td>NaN</td>\n",
       "      <td>NaN</td>\n",
       "      <td>NaN</td>\n",
       "      <td>NaN</td>\n",
       "      <td>NaN</td>\n",
       "      <td>NaN</td>\n",
       "      <td>NaN</td>\n",
       "    </tr>\n",
       "    <tr>\n",
       "      <th>3</th>\n",
       "      <td>индейка</td>\n",
       "      <td>авокадо</td>\n",
       "      <td>NaN</td>\n",
       "      <td>NaN</td>\n",
       "      <td>NaN</td>\n",
       "      <td>NaN</td>\n",
       "      <td>NaN</td>\n",
       "      <td>NaN</td>\n",
       "      <td>NaN</td>\n",
       "      <td>NaN</td>\n",
       "      <td>NaN</td>\n",
       "      <td>NaN</td>\n",
       "      <td>NaN</td>\n",
       "      <td>NaN</td>\n",
       "      <td>NaN</td>\n",
       "      <td>NaN</td>\n",
       "      <td>NaN</td>\n",
       "      <td>NaN</td>\n",
       "      <td>NaN</td>\n",
       "      <td>NaN</td>\n",
       "    </tr>\n",
       "    <tr>\n",
       "      <th>4</th>\n",
       "      <td>минеральная вода</td>\n",
       "      <td>молоко</td>\n",
       "      <td>энергетический батончик</td>\n",
       "      <td>рис</td>\n",
       "      <td>зеленый чай</td>\n",
       "      <td>NaN</td>\n",
       "      <td>NaN</td>\n",
       "      <td>NaN</td>\n",
       "      <td>NaN</td>\n",
       "      <td>NaN</td>\n",
       "      <td>NaN</td>\n",
       "      <td>NaN</td>\n",
       "      <td>NaN</td>\n",
       "      <td>NaN</td>\n",
       "      <td>NaN</td>\n",
       "      <td>NaN</td>\n",
       "      <td>NaN</td>\n",
       "      <td>NaN</td>\n",
       "      <td>NaN</td>\n",
       "      <td>NaN</td>\n",
       "    </tr>\n",
       "  </tbody>\n",
       "</table>\n",
       "</div>"
      ],
      "text/plain": [
       "                 0            1                        2              3   \\\n",
       "0          креветки      миндаль                  авокадо  овощная смесь   \n",
       "1         гамбургер  фрикадельки                     яйца            NaN   \n",
       "2             чатни          NaN                      NaN            NaN   \n",
       "3           индейка      авокадо                      NaN            NaN   \n",
       "4  минеральная вода       молоко  энергетический батончик            рис   \n",
       "\n",
       "                 4                    5      6       7   \\\n",
       "0  зеленый виноград  цельнозерновая мука  батат  творог   \n",
       "1               NaN                  NaN    NaN     NaN   \n",
       "2               NaN                  NaN    NaN     NaN   \n",
       "3               NaN                  NaN    NaN     NaN   \n",
       "4       зеленый чай                  NaN    NaN     NaN   \n",
       "\n",
       "                       8             9                       10           11  \\\n",
       "0  энергетический напиток  томатный сок  низкокалорийный йогурт  зеленый чай   \n",
       "1                     NaN           NaN                     NaN          NaN   \n",
       "2                     NaN           NaN                     NaN          NaN   \n",
       "3                     NaN           NaN                     NaN          NaN   \n",
       "4                     NaN           NaN                     NaN          NaN   \n",
       "\n",
       "    12     13                14      15           16                  17  \\\n",
       "0  мед  салат  минеральная вода  лосось  ягодный сок  замороженный смузи   \n",
       "1  NaN    NaN               NaN     NaN          NaN                 NaN   \n",
       "2  NaN    NaN               NaN     NaN          NaN                 NaN   \n",
       "3  NaN    NaN               NaN     NaN          NaN                 NaN   \n",
       "4  NaN    NaN               NaN     NaN          NaN                 NaN   \n",
       "\n",
       "       18               19  \n",
       "0  шпинат  оливковое масло  \n",
       "1     NaN              NaN  \n",
       "2     NaN              NaN  \n",
       "3     NaN              NaN  \n",
       "4     NaN              NaN  "
      ]
     },
     "execution_count": 8,
     "metadata": {},
     "output_type": "execute_result"
    }
   ],
   "source": [
    "baskets.head()"
   ]
  },
  {
   "cell_type": "code",
   "execution_count": 9,
   "metadata": {},
   "outputs": [
    {
     "data": {
      "text/plain": [
       "(7501, 20)"
      ]
     },
     "execution_count": 9,
     "metadata": {},
     "output_type": "execute_result"
    }
   ],
   "source": [
    "baskets.shape"
   ]
  },
  {
   "cell_type": "code",
   "execution_count": 10,
   "metadata": {},
   "outputs": [],
   "source": [
    "baskets_transactions = [list(row.dropna()) for index, row in baskets.iterrows()]"
   ]
  },
  {
   "cell_type": "code",
   "execution_count": 30,
   "metadata": {},
   "outputs": [
    {
     "data": {
      "text/html": [
       "<div>\n",
       "<style scoped>\n",
       "    .dataframe tbody tr th:only-of-type {\n",
       "        vertical-align: middle;\n",
       "    }\n",
       "\n",
       "    .dataframe tbody tr th {\n",
       "        vertical-align: top;\n",
       "    }\n",
       "\n",
       "    .dataframe thead th {\n",
       "        text-align: right;\n",
       "    }\n",
       "</style>\n",
       "<table border=\"1\" class=\"dataframe\">\n",
       "  <thead>\n",
       "    <tr style=\"text-align: right;\">\n",
       "      <th></th>\n",
       "      <th>items_set</th>\n",
       "      <th>support</th>\n",
       "    </tr>\n",
       "  </thead>\n",
       "  <tbody>\n",
       "    <tr>\n",
       "      <th>0</th>\n",
       "      <td>(макароны, минеральная вода)</td>\n",
       "      <td>0.061192</td>\n",
       "    </tr>\n",
       "    <tr>\n",
       "      <th>1</th>\n",
       "      <td>(минеральная вода, шоколад)</td>\n",
       "      <td>0.052660</td>\n",
       "    </tr>\n",
       "    <tr>\n",
       "      <th>2</th>\n",
       "      <td>(минеральная вода, яйца)</td>\n",
       "      <td>0.050927</td>\n",
       "    </tr>\n",
       "    <tr>\n",
       "      <th>3</th>\n",
       "      <td>(минеральная вода, молоко)</td>\n",
       "      <td>0.047994</td>\n",
       "    </tr>\n",
       "    <tr>\n",
       "      <th>4</th>\n",
       "      <td>(говяжий фарш, минеральная вода)</td>\n",
       "      <td>0.040928</td>\n",
       "    </tr>\n",
       "    <tr>\n",
       "      <th>...</th>\n",
       "      <td>...</td>\n",
       "      <td>...</td>\n",
       "    </tr>\n",
       "    <tr>\n",
       "      <th>182</th>\n",
       "      <td>(минеральная вода, хлопья)</td>\n",
       "      <td>0.010265</td>\n",
       "    </tr>\n",
       "    <tr>\n",
       "      <th>183</th>\n",
       "      <td>(гамбургер, рис)</td>\n",
       "      <td>0.010265</td>\n",
       "    </tr>\n",
       "    <tr>\n",
       "      <th>184</th>\n",
       "      <td>(суп, шоколад)</td>\n",
       "      <td>0.010132</td>\n",
       "    </tr>\n",
       "    <tr>\n",
       "      <th>185</th>\n",
       "      <td>(замороженные овощи, низкокалорийный йогурт)</td>\n",
       "      <td>0.010132</td>\n",
       "    </tr>\n",
       "    <tr>\n",
       "      <th>186</th>\n",
       "      <td>(говяжий фарш, минеральная вода, яйца)</td>\n",
       "      <td>0.010132</td>\n",
       "    </tr>\n",
       "  </tbody>\n",
       "</table>\n",
       "<p>187 rows × 2 columns</p>\n",
       "</div>"
      ],
      "text/plain": [
       "                                        items_set   support\n",
       "0                    (макароны, минеральная вода)  0.061192\n",
       "1                     (минеральная вода, шоколад)  0.052660\n",
       "2                        (минеральная вода, яйца)  0.050927\n",
       "3                      (минеральная вода, молоко)  0.047994\n",
       "4                (говяжий фарш, минеральная вода)  0.040928\n",
       "..                                            ...       ...\n",
       "182                    (минеральная вода, хлопья)  0.010265\n",
       "183                              (гамбургер, рис)  0.010265\n",
       "184                                (суп, шоколад)  0.010132\n",
       "185  (замороженные овощи, низкокалорийный йогурт)  0.010132\n",
       "186        (говяжий фарш, минеральная вода, яйца)  0.010132\n",
       "\n",
       "[187 rows x 2 columns]"
      ]
     },
     "execution_count": 30,
     "metadata": {},
     "output_type": "execute_result"
    }
   ],
   "source": [
    "apriori_solver.solve(baskets_transactions, 0.01)"
   ]
  },
  {
   "cell_type": "code",
   "execution_count": 29,
   "metadata": {},
   "outputs": [],
   "source": [
    "min_supports = [0.01, 0.03, 0.05, 0.10, 0.15, 0.3]  # Значения в процентах\n",
    "execution_times = []  # Для хранения времени выполнения\n",
    "frequent_item_counts = []  # Для хранения количества частых наборов\n",
    "\n",
    "# Запуск экспериментов\n",
    "for min_support in min_supports:\n",
    "    start_time = time.time()  # Начало замера времени\n",
    "    apriori_solver = AprioriSolver()  # Инициализация вашего решателя\n",
    "    # Выполните алгоритм\n",
    "    result_items = apriori_solver.solve(baskets_transactions, min_support=min_support)  # Измените под свои методы\n",
    "    exec_time = time.time() - start_time  # Время выполнения\n",
    "\n",
    "    execution_times.append(exec_time)\n",
    "    # Подсчет частых наборов\n",
    "    frequent_item_counts.append(result_items['items_set'].nunique())"
   ]
  },
  {
   "cell_type": "code",
   "execution_count": 23,
   "metadata": {},
   "outputs": [
    {
     "data": {
      "application/vnd.plotly.v1+json": {
       "config": {
        "plotlyServerURL": "https://plot.ly"
       },
       "data": [
        {
         "mode": "lines+markers",
         "name": "Время выполнения (сек)",
         "type": "scatter",
         "x": [
          0.01,
          0.03,
          0.05,
          0.1,
          0.15,
          0.3
         ],
         "y": [
          6.640204668045044,
          0.39177608489990234,
          0.1719200611114502,
          0.026984691619873047,
          0.016971111297607422,
          0.010008573532104492
         ],
         "yaxis": "y"
        },
        {
         "mode": "lines+markers",
         "name": "Количество частых наборов",
         "type": "scatter",
         "x": [
          0.01,
          0.03,
          0.05,
          0.1,
          0.15,
          0.3
         ],
         "y": [
          187,
          19,
          3,
          0,
          0,
          0
         ],
         "yaxis": "y2"
        }
       ],
       "layout": {
        "template": {
         "data": {
          "bar": [
           {
            "error_x": {
             "color": "#2a3f5f"
            },
            "error_y": {
             "color": "#2a3f5f"
            },
            "marker": {
             "line": {
              "color": "#E5ECF6",
              "width": 0.5
             },
             "pattern": {
              "fillmode": "overlay",
              "size": 10,
              "solidity": 0.2
             }
            },
            "type": "bar"
           }
          ],
          "barpolar": [
           {
            "marker": {
             "line": {
              "color": "#E5ECF6",
              "width": 0.5
             },
             "pattern": {
              "fillmode": "overlay",
              "size": 10,
              "solidity": 0.2
             }
            },
            "type": "barpolar"
           }
          ],
          "carpet": [
           {
            "aaxis": {
             "endlinecolor": "#2a3f5f",
             "gridcolor": "white",
             "linecolor": "white",
             "minorgridcolor": "white",
             "startlinecolor": "#2a3f5f"
            },
            "baxis": {
             "endlinecolor": "#2a3f5f",
             "gridcolor": "white",
             "linecolor": "white",
             "minorgridcolor": "white",
             "startlinecolor": "#2a3f5f"
            },
            "type": "carpet"
           }
          ],
          "choropleth": [
           {
            "colorbar": {
             "outlinewidth": 0,
             "ticks": ""
            },
            "type": "choropleth"
           }
          ],
          "contour": [
           {
            "colorbar": {
             "outlinewidth": 0,
             "ticks": ""
            },
            "colorscale": [
             [
              0,
              "#0d0887"
             ],
             [
              0.1111111111111111,
              "#46039f"
             ],
             [
              0.2222222222222222,
              "#7201a8"
             ],
             [
              0.3333333333333333,
              "#9c179e"
             ],
             [
              0.4444444444444444,
              "#bd3786"
             ],
             [
              0.5555555555555556,
              "#d8576b"
             ],
             [
              0.6666666666666666,
              "#ed7953"
             ],
             [
              0.7777777777777778,
              "#fb9f3a"
             ],
             [
              0.8888888888888888,
              "#fdca26"
             ],
             [
              1,
              "#f0f921"
             ]
            ],
            "type": "contour"
           }
          ],
          "contourcarpet": [
           {
            "colorbar": {
             "outlinewidth": 0,
             "ticks": ""
            },
            "type": "contourcarpet"
           }
          ],
          "heatmap": [
           {
            "colorbar": {
             "outlinewidth": 0,
             "ticks": ""
            },
            "colorscale": [
             [
              0,
              "#0d0887"
             ],
             [
              0.1111111111111111,
              "#46039f"
             ],
             [
              0.2222222222222222,
              "#7201a8"
             ],
             [
              0.3333333333333333,
              "#9c179e"
             ],
             [
              0.4444444444444444,
              "#bd3786"
             ],
             [
              0.5555555555555556,
              "#d8576b"
             ],
             [
              0.6666666666666666,
              "#ed7953"
             ],
             [
              0.7777777777777778,
              "#fb9f3a"
             ],
             [
              0.8888888888888888,
              "#fdca26"
             ],
             [
              1,
              "#f0f921"
             ]
            ],
            "type": "heatmap"
           }
          ],
          "histogram": [
           {
            "marker": {
             "pattern": {
              "fillmode": "overlay",
              "size": 10,
              "solidity": 0.2
             }
            },
            "type": "histogram"
           }
          ],
          "histogram2d": [
           {
            "colorbar": {
             "outlinewidth": 0,
             "ticks": ""
            },
            "colorscale": [
             [
              0,
              "#0d0887"
             ],
             [
              0.1111111111111111,
              "#46039f"
             ],
             [
              0.2222222222222222,
              "#7201a8"
             ],
             [
              0.3333333333333333,
              "#9c179e"
             ],
             [
              0.4444444444444444,
              "#bd3786"
             ],
             [
              0.5555555555555556,
              "#d8576b"
             ],
             [
              0.6666666666666666,
              "#ed7953"
             ],
             [
              0.7777777777777778,
              "#fb9f3a"
             ],
             [
              0.8888888888888888,
              "#fdca26"
             ],
             [
              1,
              "#f0f921"
             ]
            ],
            "type": "histogram2d"
           }
          ],
          "histogram2dcontour": [
           {
            "colorbar": {
             "outlinewidth": 0,
             "ticks": ""
            },
            "colorscale": [
             [
              0,
              "#0d0887"
             ],
             [
              0.1111111111111111,
              "#46039f"
             ],
             [
              0.2222222222222222,
              "#7201a8"
             ],
             [
              0.3333333333333333,
              "#9c179e"
             ],
             [
              0.4444444444444444,
              "#bd3786"
             ],
             [
              0.5555555555555556,
              "#d8576b"
             ],
             [
              0.6666666666666666,
              "#ed7953"
             ],
             [
              0.7777777777777778,
              "#fb9f3a"
             ],
             [
              0.8888888888888888,
              "#fdca26"
             ],
             [
              1,
              "#f0f921"
             ]
            ],
            "type": "histogram2dcontour"
           }
          ],
          "mesh3d": [
           {
            "colorbar": {
             "outlinewidth": 0,
             "ticks": ""
            },
            "type": "mesh3d"
           }
          ],
          "parcoords": [
           {
            "line": {
             "colorbar": {
              "outlinewidth": 0,
              "ticks": ""
             }
            },
            "type": "parcoords"
           }
          ],
          "pie": [
           {
            "automargin": true,
            "type": "pie"
           }
          ],
          "scatter": [
           {
            "fillpattern": {
             "fillmode": "overlay",
             "size": 10,
             "solidity": 0.2
            },
            "type": "scatter"
           }
          ],
          "scatter3d": [
           {
            "line": {
             "colorbar": {
              "outlinewidth": 0,
              "ticks": ""
             }
            },
            "marker": {
             "colorbar": {
              "outlinewidth": 0,
              "ticks": ""
             }
            },
            "type": "scatter3d"
           }
          ],
          "scattercarpet": [
           {
            "marker": {
             "colorbar": {
              "outlinewidth": 0,
              "ticks": ""
             }
            },
            "type": "scattercarpet"
           }
          ],
          "scattergeo": [
           {
            "marker": {
             "colorbar": {
              "outlinewidth": 0,
              "ticks": ""
             }
            },
            "type": "scattergeo"
           }
          ],
          "scattergl": [
           {
            "marker": {
             "colorbar": {
              "outlinewidth": 0,
              "ticks": ""
             }
            },
            "type": "scattergl"
           }
          ],
          "scattermap": [
           {
            "marker": {
             "colorbar": {
              "outlinewidth": 0,
              "ticks": ""
             }
            },
            "type": "scattermap"
           }
          ],
          "scattermapbox": [
           {
            "marker": {
             "colorbar": {
              "outlinewidth": 0,
              "ticks": ""
             }
            },
            "type": "scattermapbox"
           }
          ],
          "scatterpolar": [
           {
            "marker": {
             "colorbar": {
              "outlinewidth": 0,
              "ticks": ""
             }
            },
            "type": "scatterpolar"
           }
          ],
          "scatterpolargl": [
           {
            "marker": {
             "colorbar": {
              "outlinewidth": 0,
              "ticks": ""
             }
            },
            "type": "scatterpolargl"
           }
          ],
          "scatterternary": [
           {
            "marker": {
             "colorbar": {
              "outlinewidth": 0,
              "ticks": ""
             }
            },
            "type": "scatterternary"
           }
          ],
          "surface": [
           {
            "colorbar": {
             "outlinewidth": 0,
             "ticks": ""
            },
            "colorscale": [
             [
              0,
              "#0d0887"
             ],
             [
              0.1111111111111111,
              "#46039f"
             ],
             [
              0.2222222222222222,
              "#7201a8"
             ],
             [
              0.3333333333333333,
              "#9c179e"
             ],
             [
              0.4444444444444444,
              "#bd3786"
             ],
             [
              0.5555555555555556,
              "#d8576b"
             ],
             [
              0.6666666666666666,
              "#ed7953"
             ],
             [
              0.7777777777777778,
              "#fb9f3a"
             ],
             [
              0.8888888888888888,
              "#fdca26"
             ],
             [
              1,
              "#f0f921"
             ]
            ],
            "type": "surface"
           }
          ],
          "table": [
           {
            "cells": {
             "fill": {
              "color": "#EBF0F8"
             },
             "line": {
              "color": "white"
             }
            },
            "header": {
             "fill": {
              "color": "#C8D4E3"
             },
             "line": {
              "color": "white"
             }
            },
            "type": "table"
           }
          ]
         },
         "layout": {
          "annotationdefaults": {
           "arrowcolor": "#2a3f5f",
           "arrowhead": 0,
           "arrowwidth": 1
          },
          "autotypenumbers": "strict",
          "coloraxis": {
           "colorbar": {
            "outlinewidth": 0,
            "ticks": ""
           }
          },
          "colorscale": {
           "diverging": [
            [
             0,
             "#8e0152"
            ],
            [
             0.1,
             "#c51b7d"
            ],
            [
             0.2,
             "#de77ae"
            ],
            [
             0.3,
             "#f1b6da"
            ],
            [
             0.4,
             "#fde0ef"
            ],
            [
             0.5,
             "#f7f7f7"
            ],
            [
             0.6,
             "#e6f5d0"
            ],
            [
             0.7,
             "#b8e186"
            ],
            [
             0.8,
             "#7fbc41"
            ],
            [
             0.9,
             "#4d9221"
            ],
            [
             1,
             "#276419"
            ]
           ],
           "sequential": [
            [
             0,
             "#0d0887"
            ],
            [
             0.1111111111111111,
             "#46039f"
            ],
            [
             0.2222222222222222,
             "#7201a8"
            ],
            [
             0.3333333333333333,
             "#9c179e"
            ],
            [
             0.4444444444444444,
             "#bd3786"
            ],
            [
             0.5555555555555556,
             "#d8576b"
            ],
            [
             0.6666666666666666,
             "#ed7953"
            ],
            [
             0.7777777777777778,
             "#fb9f3a"
            ],
            [
             0.8888888888888888,
             "#fdca26"
            ],
            [
             1,
             "#f0f921"
            ]
           ],
           "sequentialminus": [
            [
             0,
             "#0d0887"
            ],
            [
             0.1111111111111111,
             "#46039f"
            ],
            [
             0.2222222222222222,
             "#7201a8"
            ],
            [
             0.3333333333333333,
             "#9c179e"
            ],
            [
             0.4444444444444444,
             "#bd3786"
            ],
            [
             0.5555555555555556,
             "#d8576b"
            ],
            [
             0.6666666666666666,
             "#ed7953"
            ],
            [
             0.7777777777777778,
             "#fb9f3a"
            ],
            [
             0.8888888888888888,
             "#fdca26"
            ],
            [
             1,
             "#f0f921"
            ]
           ]
          },
          "colorway": [
           "#636efa",
           "#EF553B",
           "#00cc96",
           "#ab63fa",
           "#FFA15A",
           "#19d3f3",
           "#FF6692",
           "#B6E880",
           "#FF97FF",
           "#FECB52"
          ],
          "font": {
           "color": "#2a3f5f"
          },
          "geo": {
           "bgcolor": "white",
           "lakecolor": "white",
           "landcolor": "#E5ECF6",
           "showlakes": true,
           "showland": true,
           "subunitcolor": "white"
          },
          "hoverlabel": {
           "align": "left"
          },
          "hovermode": "closest",
          "mapbox": {
           "style": "light"
          },
          "paper_bgcolor": "white",
          "plot_bgcolor": "#E5ECF6",
          "polar": {
           "angularaxis": {
            "gridcolor": "white",
            "linecolor": "white",
            "ticks": ""
           },
           "bgcolor": "#E5ECF6",
           "radialaxis": {
            "gridcolor": "white",
            "linecolor": "white",
            "ticks": ""
           }
          },
          "scene": {
           "xaxis": {
            "backgroundcolor": "#E5ECF6",
            "gridcolor": "white",
            "gridwidth": 2,
            "linecolor": "white",
            "showbackground": true,
            "ticks": "",
            "zerolinecolor": "white"
           },
           "yaxis": {
            "backgroundcolor": "#E5ECF6",
            "gridcolor": "white",
            "gridwidth": 2,
            "linecolor": "white",
            "showbackground": true,
            "ticks": "",
            "zerolinecolor": "white"
           },
           "zaxis": {
            "backgroundcolor": "#E5ECF6",
            "gridcolor": "white",
            "gridwidth": 2,
            "linecolor": "white",
            "showbackground": true,
            "ticks": "",
            "zerolinecolor": "white"
           }
          },
          "shapedefaults": {
           "line": {
            "color": "#2a3f5f"
           }
          },
          "ternary": {
           "aaxis": {
            "gridcolor": "white",
            "linecolor": "white",
            "ticks": ""
           },
           "baxis": {
            "gridcolor": "white",
            "linecolor": "white",
            "ticks": ""
           },
           "bgcolor": "#E5ECF6",
           "caxis": {
            "gridcolor": "white",
            "linecolor": "white",
            "ticks": ""
           }
          },
          "title": {
           "x": 0.05
          },
          "xaxis": {
           "automargin": true,
           "gridcolor": "white",
           "linecolor": "white",
           "ticks": "",
           "title": {
            "standoff": 15
           },
           "zerolinecolor": "white",
           "zerolinewidth": 2
          },
          "yaxis": {
           "automargin": true,
           "gridcolor": "white",
           "linecolor": "white",
           "ticks": "",
           "title": {
            "standoff": 15
           },
           "zerolinecolor": "white",
           "zerolinewidth": 2
          }
         }
        },
        "title": {
         "text": "Анализ времени выполнения и количества частых наборов"
        },
        "xaxis": {
         "anchor": "y",
         "domain": [
          0,
          0.94
         ],
         "title": {
          "text": "Порог поддержки"
         }
        },
        "yaxis": {
         "anchor": "x",
         "domain": [
          0,
          1
         ],
         "title": {
          "text": "Время выполнения (сек)"
         }
        },
        "yaxis2": {
         "anchor": "x",
         "overlaying": "y",
         "side": "right",
         "title": {
          "text": "Количество частых наборов"
         }
        }
       }
      }
     },
     "metadata": {},
     "output_type": "display_data"
    }
   ],
   "source": [
    "fig = make_subplots(specs=[[{\"secondary_y\": True}]])\n",
    "\n",
    "# Добавляем линию для времени выполнения\n",
    "fig.add_trace(go.Scatter(\n",
    "    x=min_supports,\n",
    "    y=execution_times,\n",
    "    mode='lines+markers',\n",
    "    name='Время выполнения (сек)',\n",
    "    yaxis='y1'\n",
    "))\n",
    "\n",
    "# Добавляем линию для количества частых наборов\n",
    "fig.add_trace(go.Scatter(\n",
    "    x=min_supports,\n",
    "    y=frequent_item_counts,\n",
    "    mode='lines+markers',\n",
    "    name='Количество частых наборов',\n",
    "    yaxis='y2'\n",
    "))\n",
    "\n",
    "# Настройки осей\n",
    "fig.update_layout(\n",
    "    title='Анализ времени выполнения и количества частых наборов',\n",
    "    xaxis_title='Порог поддержки',\n",
    "    yaxis_title='Время выполнения (сек)',\n",
    "    yaxis2=dict(\n",
    "        title='Количество частых наборов',\n",
    "        overlaying='y',\n",
    "        side='right'\n",
    "    ),\n",
    ")"
   ]
  },
  {
   "cell_type": "code",
   "execution_count": 17,
   "metadata": {},
   "outputs": [
    {
     "data": {
      "text/plain": [
       "1.0010085105895996"
      ]
     },
     "execution_count": 17,
     "metadata": {},
     "output_type": "execute_result"
    }
   ],
   "source": [
    "start_time = time.time() \n",
    "time.sleep(1)\n",
    "exec_time = time.time() - start_time\n",
    "exec_time"
   ]
  }
 ],
 "metadata": {
  "kernelspec": {
   "display_name": "analytics_venv",
   "language": "python",
   "name": "python3"
  },
  "language_info": {
   "codemirror_mode": {
    "name": "ipython",
    "version": 3
   },
   "file_extension": ".py",
   "mimetype": "text/x-python",
   "name": "python",
   "nbconvert_exporter": "python",
   "pygments_lexer": "ipython3",
   "version": "3.11.9"
  }
 },
 "nbformat": 4,
 "nbformat_minor": 2
}
